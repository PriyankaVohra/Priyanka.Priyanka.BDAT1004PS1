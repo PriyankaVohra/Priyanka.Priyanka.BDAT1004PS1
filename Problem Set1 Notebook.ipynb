{
 "cells": [
  {
   "cell_type": "markdown",
   "id": "7302d495",
   "metadata": {},
   "source": [
    "\n",
    "<h1><font color='#004b87'><center>BDAT 1004 – Data Programming</center></font></h1>\n",
    "<h2><center>Problem Set 1 </center></h2>"
   ]
  },
  {
   "cell_type": "markdown",
   "id": "09dec592",
   "metadata": {},
   "source": [
    "## Question 1: What data type is each of the following?\n"
   ]
  },
  {
   "cell_type": "code",
   "execution_count": 1,
   "id": "713f8b9f",
   "metadata": {},
   "outputs": [
    {
     "name": "stdout",
     "output_type": "stream",
     "text": [
      "<class 'int'>\n",
      "<class 'float'>\n",
      "<class 'bool'>\n",
      "<class 'str'>\n",
      "<class 'int'>\n",
      "<class 'str'>\n",
      "<class 'str'>\n",
      "<class 'float'>\n",
      "<class 'int'>\n",
      "<class 'set'>\n",
      "<class 'bool'>\n",
      "<class 'float'>\n"
     ]
    }
   ],
   "source": [
    "print(type(5))\n",
    "print(type(5.0))\n",
    "print(type(5 >1))\n",
    "print(type('5'))\n",
    "print(type(5 * 2))\n",
    "print(type('5' * 2))\n",
    "print(type('5' + '2'))\n",
    "print(type(5 / 2))\n",
    "print(type(5 % 2))\n",
    "print(type({5, 2, 1}))\n",
    "print(type(5 == 3))\n",
    "import math\n",
    "print(type(math.pi))"
   ]
  },
  {
   "cell_type": "markdown",
   "id": "430da9d0",
   "metadata": {},
   "source": [
    "## Question 2: Write (and evaluate) python expressions that answer these questions:\n",
    "a. How many letters are there in 'Supercalifragilisticexpialidocious'?\n",
    "\n",
    "b. Does 'Supercalifragilisticexpialidocious' contain 'ice' as a substring?\n",
    "\n",
    "c. Which of the following words is the longest: \n",
    "Supercalifragilisticexpialidocious, Honorificabilitudinitatibus, or \n",
    "Bababadalgharaghtakamminarronnkonn? \n",
    "\n",
    "d. Which composer comes first in the dictionary: 'Berlioz', 'Borodin', 'Brian', \n",
    "'Bartok', 'Bellini', 'Buxtehude', 'Bernstein'. Which one comes last?\n"
   ]
  },
  {
   "cell_type": "code",
   "execution_count": 2,
   "id": "9b1d9e1b",
   "metadata": {},
   "outputs": [
    {
     "name": "stdout",
     "output_type": "stream",
     "text": [
      "34\n",
      "True\n",
      "The longest word is: Supercalifragilisticexpialidocious\n",
      "First Composer is : Bartok\n"
     ]
    }
   ],
   "source": [
    "#a. How many letters are there in 'Supercalifragilisticexpialidocious'?\n",
    "a='Supercalifragilisticexpialidocious'\n",
    "print(len(a))\n",
    "\n",
    "#b. Does 'Supercalifragilisticexpialidocious' contain 'ice' as a substring?\n",
    "print('ice'in a)\n",
    "\n",
    "#c. Which of the following words is the longest: \n",
    "words=['Supercalifragilisticexpialidocious', 'Honorificabilitudinitatibus', 'Bababadalgharaghtakamminarronnkonn']\n",
    "longestWord=''\n",
    "maxLen = 0\n",
    "for word in words:\n",
    "    length = len(word)\n",
    "    if length > maxLen:\n",
    "        maxLen = length\n",
    "        longestWord = word\n",
    "print(\"The longest word is:\",longestWord )\n",
    "\n",
    "#d. Which composer comes first in the dictionary\n",
    "composers= ['Berlioz', 'Borodin', 'Brian','Bartok', 'Bellini', 'Buxtehude', 'Bernstein']\n",
    "firstComposer = min(composers)\n",
    "lastComposer = max(composers)\n",
    "print(\"First Composer is :\", firstComposer)"
   ]
  },
  {
   "cell_type": "markdown",
   "id": "d2cb3599",
   "metadata": {},
   "source": [
    "## Question 3: Implement function triangleArea(a,b,c) that takes as input the lengths of the 3 sides of a triangle and returns the area of the triangle. By Heron's formula, the area of a triangle with side lengths a, b, and c iss(s - a)(s -b)(s -c), where s = (a+b+c)/2. "
   ]
  },
  {
   "cell_type": "code",
   "execution_count": 3,
   "id": "b6470d5f",
   "metadata": {},
   "outputs": [
    {
     "name": "stdout",
     "output_type": "stream",
     "text": [
      "Enter value of a: 2\n",
      "Enter value of b: 2\n",
      "Enter value of c: 2\n",
      "The area of the triangle is:  1.7320508075688772\n"
     ]
    }
   ],
   "source": [
    "import math\n",
    "def calculateTriangleArea(a,b,c):\n",
    " s = (a + b + c)/2\n",
    " area = (math.sqrt(s*(s-a)*(s-b)*(s-c)))\n",
    " return area\n",
    "a=int(input(\"Enter value of a: \"))\n",
    "b=int(input(\"Enter value of b: \"))\n",
    "c=int(input(\"Enter value of c: \"))\n",
    "triangleArea= calculateTriangleArea(a,b,c)\n",
    "print(\"The area of the triangle is: \", triangleArea)"
   ]
  },
  {
   "cell_type": "markdown",
   "id": "7d091a50",
   "metadata": {},
   "source": [
    "## Question 4: Write a program in python to separate odd and even integers in separate arrays."
   ]
  },
  {
   "cell_type": "code",
   "execution_count": 7,
   "id": "211862db",
   "metadata": {},
   "outputs": [
    {
     "name": "stdout",
     "output_type": "stream",
     "text": [
      "Input the Number of elements to be stored in the array :5\n",
      "Input 5 elements in the array:\n",
      "25\n",
      "47\n",
      "42\n",
      "56\n",
      "32\n",
      "The Even elements are: [42, 56, 32]\n",
      "The Odd elements are : [25, 47]\n"
     ]
    }
   ],
   "source": [
    "def evenOdd(A): \n",
    "   evenlist = [] \n",
    "   oddlist = [] \n",
    "   for i in A: \n",
    "      if (i % 2 == 0): \n",
    "         evenlist.append(i) \n",
    "      else: \n",
    "         oddlist.append(i) \n",
    "   print(\"The Even elements are:\", evenlist) \n",
    "   print(\"The Odd elements are :\", oddlist) \n",
    "  \n",
    "\n",
    "A=list()\n",
    "n=int(input(\"Input the Number of elements to be stored in the array :\"))\n",
    "print(\"Input 5 elements in the array:\")\n",
    "for i in range(int(n)):\n",
    "   k=int(input(\"\"))\n",
    "   A.append(k)\n",
    "evenOdd(A) "
   ]
  },
  {
   "cell_type": "markdown",
   "id": "5a1409ae",
   "metadata": {},
   "source": [
    "## Question 5:\n",
    "## a. Write a function inside(x,y,x1,y1,x2,y2) that returns True or False depending on whether the point (x,y) lies in the rectangle with lower left corner (x1,y1) and upper right corner (x2,y2).\n",
    "## b.Use function inside() from part a. to write an expression that tests whether the point (1,1) lies in both of the following rectangles: one with lower left corner (0.3, 0.5) and upper right corner (1.1, 0.7) and the other with lower left corner (0.5, 0.2) and upper right corner (1.1, 2). "
   ]
  },
  {
   "cell_type": "code",
   "execution_count": 26,
   "id": "a4b837e4",
   "metadata": {},
   "outputs": [
    {
     "name": "stdout",
     "output_type": "stream",
     "text": [
      "True\n",
      "False\n"
     ]
    }
   ],
   "source": [
    "def inside(x, y, x1, y1, x2, y2):\n",
    "    if x >= x1 and x <= x2 and y >= y1 and y <= y2:\n",
    "        return True\n",
    "    else:\n",
    "        return False\n",
    "print(inside(1, 1, 0, 0, 2, 3))\n",
    "print(inside(-1, -1, 0, 0, 2, 3)) "
   ]
  },
  {
   "cell_type": "code",
   "execution_count": 28,
   "id": "aefb8648",
   "metadata": {},
   "outputs": [
    {
     "name": "stdout",
     "output_type": "stream",
     "text": [
      "The point (1, 1) does not lie in both rectangles.\n"
     ]
    }
   ],
   "source": [
    "rec1_x1, rec1_y1, rec1_x2, rec1_y2 = 0.3, 0.5, 1.1, 0.7\n",
    "result1 = inside(1, 1, rec1_x1, rec1_y1, rec1_x2, rec1_y2)\n",
    "\n",
    "rec2_x1, rec2_y1, rec2_x2, rec2_y2 = 0.5, 0.2, 1.1, 2\n",
    "result2 = inside(1, 1, rec2_x1, rec2_y1, rec2_x2, rec2_y2)\n",
    "\n",
    "if result1 and result2:\n",
    "    print(\"The point (1, 1) lies in both rectangles.\")\n",
    "else:\n",
    "    print(\"The point (1, 1) does not lie in both rectangles.\")"
   ]
  },
  {
   "cell_type": "markdown",
   "id": "492f7dff",
   "metadata": {},
   "source": [
    "## Question 6. You can turn a word into pig-Latin using the following two rules (simplified): \n",
    "## • If the word starts with a consonant, move that letter to the end and append 'ay'. For      example, 'happy' becomes 'appyhay' and 'pencil' becomes 'encilpay'.\n",
    "## • If the word starts with a vowel, simply append 'way' to the end of the word. For example, 'enter' becomes 'enterway' and 'other' becomes 'otherway' . For our purposes, there are 5 vowels: a, e, i, o, u (so we count y as a consonant).\n",
    "## Write a function pig() that takes a word (i.e., a string) as input and returns its pig-Latin form. Your function should still work if the input word contains upper case  characters. Your output should always be lower case however. "
   ]
  },
  {
   "cell_type": "code",
   "execution_count": 38,
   "id": "54fb9179",
   "metadata": {},
   "outputs": [
    {
     "name": "stdout",
     "output_type": "stream",
     "text": [
      "appyhay\n",
      "enterway\n"
     ]
    }
   ],
   "source": [
    "def pig(word):\n",
    "    word = word.lower()  \n",
    "    vowels = ['a', 'e', 'i', 'o', 'u']\n",
    "    \n",
    "    if word[0] in vowels:\n",
    "        \n",
    "        pigLatin = word + 'way'\n",
    "    else:\n",
    "        \n",
    "        pigLatin = word[1:] + word[0] + 'ay'\n",
    "    \n",
    "    return pigLatin\n",
    "\n",
    "\n",
    "print(pig('happy')) \n",
    "print(pig('Enter')) "
   ]
  },
  {
   "cell_type": "markdown",
   "id": "d6d04623",
   "metadata": {},
   "source": [
    "## Question7. File bloodtype1.txt records blood-types of patients (A, B, AB, O or OO) at a clinic. Write a function bldcount() that reads the file with name name and reports (i.e., prints) how many patients there are in each bloodtype."
   ]
  },
  {
   "cell_type": "code",
   "execution_count": 29,
   "id": "764d7064",
   "metadata": {},
   "outputs": [
    {
     "name": "stdout",
     "output_type": "stream",
     "text": [
      "Number of patients with blood type A: 15\n",
      "Number of patients with blood type B: 1\n",
      "Number of patients with blood type AB: 13\n",
      "Number of patients with blood type O: 15\n",
      "Number of patients with blood type OO: 0\n"
     ]
    }
   ],
   "source": [
    "def bldcount(filename):\n",
    "    blood_type_counts = {'A': 0, 'B': 0, 'AB': 0, 'O': 0, 'OO': 0}\n",
    "\n",
    "    infile = open('bloodtype1.txt')\n",
    "    data = infile.read().split()\n",
    "\n",
    "    for blood_type in data:\n",
    "            blood_type_counts[blood_type] += 1\n",
    "\n",
    "    for blood_type, count in blood_type_counts.items():\n",
    "        print(f\"Number of patients with blood type {blood_type}: {count}\")\n",
    "\n",
    "\n",
    "bldcount('bloodtype1.txt')"
   ]
  },
  {
   "cell_type": "markdown",
   "id": "97eae8c5",
   "metadata": {},
   "source": [
    "## Question 8. Write a function curconv() that takes as input:\n",
    "## 1. a currency represented using a string (e.g., 'JPY' for the Japanese Yen or 'EUR' for the Euro)\n",
    "## 2. an amount and then converts and returns the amount in US dollar"
   ]
  },
  {
   "cell_type": "code",
   "execution_count": 58,
   "id": "974bba61",
   "metadata": {},
   "outputs": [
    {
     "name": "stdout",
     "output_type": "stream",
     "text": [
      "122.96544\n",
      "1.241401\n"
     ]
    }
   ],
   "source": [
    "def curconv(currency, amount):\n",
    "    with open('currencies.txt', 'r') as infile:\n",
    "        for line in infile:\n",
    "            parts = line.split()\n",
    "            if parts[0] == currency:\n",
    "                rate = float(parts[1])\n",
    "                return amount * rate\n",
    "    return 'Currency not found'\n",
    "\n",
    "print(curconv('EUR', 100))  \n",
    "print(curconv('JPY', 100))\n"
   ]
  },
  {
   "cell_type": "markdown",
   "id": "3f89000e",
   "metadata": {},
   "source": [
    "## Question 9. Each of the following will cause an exception (an error). Identify what type of exception each will cause."
   ]
  },
  {
   "cell_type": "markdown",
   "id": "b552e7ac",
   "metadata": {},
   "source": [
    "### Trying to add incompatible variables, as in adding 6 + ‘a’"
   ]
  },
  {
   "cell_type": "markdown",
   "id": "2e042c02",
   "metadata": {},
   "source": [
    "TypeError\n"
   ]
  },
  {
   "cell_type": "markdown",
   "id": "72fe5d69",
   "metadata": {},
   "source": [
    "### Referring to the 12th item of a list that has only 10 items"
   ]
  },
  {
   "cell_type": "markdown",
   "id": "e37dbfdd",
   "metadata": {},
   "source": [
    "IndexError"
   ]
  },
  {
   "cell_type": "markdown",
   "id": "b0e2c4cd",
   "metadata": {},
   "source": [
    "### Using a value that is out of range for a function’s input, such as calling math.sqrt(-1.0)"
   ]
  },
  {
   "cell_type": "markdown",
   "id": "dd69cc43",
   "metadata": {},
   "source": [
    "ValueError"
   ]
  },
  {
   "cell_type": "markdown",
   "id": "c5882b4d",
   "metadata": {},
   "source": [
    "### Using an undeclared variable, such as print(x) when x has not been defined "
   ]
  },
  {
   "cell_type": "markdown",
   "id": "781642de",
   "metadata": {},
   "source": [
    "NameError"
   ]
  },
  {
   "cell_type": "markdown",
   "id": "32ea56e1",
   "metadata": {},
   "source": [
    "### Trying to open a file that does not exist, such as mistyping the file name or looking in the wrong directory. \n"
   ]
  },
  {
   "cell_type": "markdown",
   "id": "6cb814b9",
   "metadata": {},
   "source": [
    "FileNotFoundError"
   ]
  },
  {
   "cell_type": "markdown",
   "id": "f4c6423b",
   "metadata": {},
   "source": [
    "## Question 10 : Encryption is the process of hiding the meaning of a text by substituting letters in the message with other letters, according to some system. If the process is successful, no one but the intended recipient can understand the encrypted message. Cryptanalysis refers to attempts to undo the encryption, even if some details of the encryption are unknown (for example, if an encrypted message has been intercepted). The first step of cryptanalysis is often to build up a table of letter frequencies in the encrypted text. \n",
    "Assume that the string letters is already defined as \n",
    "'abcdefghijklmnopqrstuvwxyz'. Write a function called frequencies()\n",
    "that takes a string as its only parameter, and returns a list of integers, showing the \n",
    "number of times each character appears in the text. Your function may ignore any \n",
    "characters that are not in letters."
   ]
  },
  {
   "cell_type": "code",
   "execution_count": 65,
   "id": "0130ffac",
   "metadata": {},
   "outputs": [
    {
     "name": "stdout",
     "output_type": "stream",
     "text": [
      "Frequency of The quick red fox got bored and went home.is:  [1, 1, 1, 3, 5, 1, 1, 2, 1, 0, 1, 0, 1, 2, 4, 0, 1, 2, 0, 3, 1, 0, 1, 1, 0, 0]\n",
      "Frequency of apple is:  [1, 0, 0, 0, 1, 0, 0, 0, 0, 0, 0, 1, 0, 0, 0, 2, 0, 0, 0, 0, 0, 0, 0, 0, 0, 0]\n"
     ]
    }
   ],
   "source": [
    "def frequencies(text):\n",
    "    letters = 'abcdefghijklmnopqrstuvwxyz'\n",
    "    frequency_list = [0] * 26\n",
    "\n",
    "    for char in text:\n",
    "        if char.lower() in letters:\n",
    "            index = letters.index(char.lower())\n",
    "            frequency_list[index] += 1\n",
    "\n",
    "    return frequency_list\n",
    "\n",
    "\n",
    "print(\"Frequency of The quick red fox got bored and went home.is: \",frequencies('The quick red fox got bored and went home.'))\n",
    "\n",
    "\n",
    "print(\"Frequency of apple is: \",frequencies('apple'))"
   ]
  }
 ],
 "metadata": {
  "kernelspec": {
   "display_name": "Python 3 (ipykernel)",
   "language": "python",
   "name": "python3"
  },
  "language_info": {
   "codemirror_mode": {
    "name": "ipython",
    "version": 3
   },
   "file_extension": ".py",
   "mimetype": "text/x-python",
   "name": "python",
   "nbconvert_exporter": "python",
   "pygments_lexer": "ipython3",
   "version": "3.10.9"
  }
 },
 "nbformat": 4,
 "nbformat_minor": 5
}
